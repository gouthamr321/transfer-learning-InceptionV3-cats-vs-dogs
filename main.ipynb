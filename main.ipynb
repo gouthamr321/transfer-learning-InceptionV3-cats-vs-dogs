{
 "cells": [
  {
   "cell_type": "code",
   "execution_count": 1,
   "metadata": {},
   "outputs": [],
   "source": [
    "import tensorflow as tf\n",
    "import numpy as np\n",
    "import os\n",
    "import pandas as pd\n",
    "from PIL import Image\n",
    "from keras_preprocessing.image import ImageDataGenerator\n",
    "from sklearn.metrics import accuracy_score\n",
    "from sklearn.metrics import confusion_matrix\n",
    "from tensorflow.keras.applications.inception_v3 import InceptionV3"
   ]
  },
  {
   "cell_type": "code",
   "execution_count": 2,
   "metadata": {},
   "outputs": [],
   "source": [
    "model_full = tf.keras.Sequential([\n",
    "    tf.keras.layers.Conv2D(16, (3, 3), activation='relu', input_shape=(500, 500, 3)),\n",
    "    tf.keras.layers.MaxPooling2D(2, 2),\n",
    "    tf.keras.layers.Conv2D(32, (3, 3), activation='relu'),\n",
    "    tf.keras.layers.MaxPooling2D(2, 2),\n",
    "    tf.keras.layers.Conv2D(64, (3, 3), activation='relu'),\n",
    "    tf.keras.layers.MaxPooling2D(2, 2),\n",
    "    tf.keras.layers.Flatten(),\n",
    "    tf.keras.layers.Dense(512, activation='relu'),\n",
    "    tf.keras.layers.Dropout(0.2),\n",
    "    tf.keras.layers.Dense(2, activation='softmax')  \n",
    "])"
   ]
  },
  {
   "cell_type": "code",
   "execution_count": 3,
   "metadata": {},
   "outputs": [],
   "source": [
    "weights_file = 'inception_v3_weights_tf_dim_ordering_tf_kernels_notop.h5'\n",
    "pre_trained_model = InceptionV3(input_shape=(200, 200, 3),\n",
    "                                include_top=False,  # dont include the last dense layers after convolution\n",
    "                                weights=None)\n",
    "\n",
    "def model_new_layers(last_output):\n",
    "    x = tf.keras.layers.Flatten()(last_output)\n",
    "    x = tf.keras.layers.Dense(1024, activation='relu')(x)\n",
    "    x = tf.keras.layers.Dropout(0.2)(x)\n",
    "    x = tf.keras.layers.Dense(2, activation='softmax')(x)\n",
    "    return x\n",
    "\n",
    "pre_trained_model.load_weights(weights_file)\n",
    "for layer in pre_trained_model.layers:\n",
    "    layer.trainable = False\n",
    "last_layer = pre_trained_model.get_layer('mixed7')\n",
    "last_output = last_layer.output\n",
    "model = tf.keras.Model(pre_trained_model.input, model_new_layers(last_output))\n"
   ]
  },
  {
   "cell_type": "code",
   "execution_count": 4,
   "metadata": {},
   "outputs": [
    {
     "name": "stdout",
     "output_type": "stream",
     "text": [
      "Found 7900 images belonging to 2 classes.\n",
      "Found 100 images belonging to 2 classes.\n",
      "Epoch 1/30\n",
      "50/50 [==============================] - 17s 347ms/step - loss: 0.5925 - accuracy: 0.7840 - val_loss: 0.1878 - val_accuracy: 0.9400\n",
      "Epoch 2/30\n",
      "50/50 [==============================] - 17s 346ms/step - loss: 0.2699 - accuracy: 0.8880 - val_loss: 0.2198 - val_accuracy: 0.9200\n",
      "Epoch 3/30\n",
      "50/50 [==============================] - 18s 360ms/step - loss: 0.2651 - accuracy: 0.8960 - val_loss: 0.3560 - val_accuracy: 0.8100\n",
      "Epoch 4/30\n",
      "50/50 [==============================] - 18s 361ms/step - loss: 0.2479 - accuracy: 0.9060 - val_loss: 0.1567 - val_accuracy: 0.9300\n",
      "Epoch 5/30\n",
      "50/50 [==============================] - 18s 361ms/step - loss: 0.2081 - accuracy: 0.9160 - val_loss: 0.3641 - val_accuracy: 0.8700\n",
      "Epoch 6/30\n",
      "50/50 [==============================] - 18s 357ms/step - loss: 0.2442 - accuracy: 0.9120 - val_loss: 0.2721 - val_accuracy: 0.8900\n",
      "Epoch 7/30\n",
      "50/50 [==============================] - 18s 353ms/step - loss: 0.1758 - accuracy: 0.9320 - val_loss: 0.1357 - val_accuracy: 0.9400\n",
      "Epoch 8/30\n",
      "50/50 [==============================] - 18s 352ms/step - loss: 0.1548 - accuracy: 0.9320 - val_loss: 0.2004 - val_accuracy: 0.9100\n",
      "Epoch 9/30\n",
      "50/50 [==============================] - 17s 345ms/step - loss: 0.1485 - accuracy: 0.9500 - val_loss: 0.1794 - val_accuracy: 0.9600\n",
      "Epoch 10/30\n",
      "50/50 [==============================] - 17s 349ms/step - loss: 0.1935 - accuracy: 0.9300 - val_loss: 0.1222 - val_accuracy: 0.9400\n",
      "Epoch 11/30\n",
      "50/50 [==============================] - 17s 346ms/step - loss: 0.1891 - accuracy: 0.9220 - val_loss: 0.2962 - val_accuracy: 0.8800\n",
      "Epoch 12/30\n",
      "50/50 [==============================] - 17s 349ms/step - loss: 0.2077 - accuracy: 0.9260 - val_loss: 0.1268 - val_accuracy: 0.9300\n",
      "Epoch 13/30\n",
      "50/50 [==============================] - 17s 347ms/step - loss: 0.1552 - accuracy: 0.9420 - val_loss: 0.1702 - val_accuracy: 0.9000\n",
      "Epoch 14/30\n",
      "50/50 [==============================] - 17s 348ms/step - loss: 0.2151 - accuracy: 0.9320 - val_loss: 0.0934 - val_accuracy: 0.9700\n",
      "Epoch 15/30\n",
      "50/50 [==============================] - 17s 349ms/step - loss: 0.1525 - accuracy: 0.9440 - val_loss: 0.1564 - val_accuracy: 0.9600\n",
      "Epoch 16/30\n",
      "50/50 [==============================] - 17s 350ms/step - loss: 0.1124 - accuracy: 0.9520 - val_loss: 0.1724 - val_accuracy: 0.9300\n",
      "Epoch 17/30\n",
      "50/50 [==============================] - 18s 352ms/step - loss: 0.1726 - accuracy: 0.9360 - val_loss: 0.1981 - val_accuracy: 0.9200\n",
      "Epoch 18/30\n",
      "50/50 [==============================] - 18s 360ms/step - loss: 0.1322 - accuracy: 0.9440 - val_loss: 0.2201 - val_accuracy: 0.9300\n",
      "Epoch 19/30\n",
      "50/50 [==============================] - 18s 354ms/step - loss: 0.1648 - accuracy: 0.9360 - val_loss: 0.1725 - val_accuracy: 0.9400\n",
      "Epoch 20/30\n",
      "50/50 [==============================] - 18s 352ms/step - loss: 0.1266 - accuracy: 0.9480 - val_loss: 0.0907 - val_accuracy: 0.9800\n",
      "Epoch 21/30\n",
      "50/50 [==============================] - 18s 353ms/step - loss: 0.1349 - accuracy: 0.9420 - val_loss: 0.1913 - val_accuracy: 0.9200\n",
      "Epoch 22/30\n",
      "50/50 [==============================] - 18s 364ms/step - loss: 0.1613 - accuracy: 0.9400 - val_loss: 0.2478 - val_accuracy: 0.9200\n",
      "Epoch 23/30\n",
      "50/50 [==============================] - 18s 355ms/step - loss: 0.1352 - accuracy: 0.9540 - val_loss: 0.1135 - val_accuracy: 0.9400\n",
      "Epoch 24/30\n",
      "50/50 [==============================] - 18s 352ms/step - loss: 0.1622 - accuracy: 0.9360 - val_loss: 0.1078 - val_accuracy: 0.9700\n",
      "Epoch 25/30\n",
      "50/50 [==============================] - 18s 353ms/step - loss: 0.1235 - accuracy: 0.9500 - val_loss: 0.1365 - val_accuracy: 0.9500\n",
      "Epoch 26/30\n",
      "50/50 [==============================] - 18s 353ms/step - loss: 0.1281 - accuracy: 0.9460 - val_loss: 0.1580 - val_accuracy: 0.9200\n",
      "Epoch 27/30\n",
      "50/50 [==============================] - 18s 354ms/step - loss: 0.1489 - accuracy: 0.9360 - val_loss: 0.1601 - val_accuracy: 0.9300\n",
      "Epoch 28/30\n",
      "50/50 [==============================] - 18s 354ms/step - loss: 0.1247 - accuracy: 0.9460 - val_loss: 0.1208 - val_accuracy: 0.9500\n",
      "Epoch 29/30\n",
      "50/50 [==============================] - 18s 354ms/step - loss: 0.0850 - accuracy: 0.9680 - val_loss: 0.1268 - val_accuracy: 0.9500\n",
      "Epoch 30/30\n",
      "50/50 [==============================] - 18s 356ms/step - loss: 0.0999 - accuracy: 0.9580 - val_loss: 0.1521 - val_accuracy: 0.9200\n"
     ]
    }
   ],
   "source": [
    "train_dir='dog vs cat/dataset/training_set'\n",
    "val_dir = 'dog vs cat/dataset/validation_dir'\n",
    "\n",
    "train_data_generator = ImageDataGenerator(rescale=1. / 255, rotation_range=30, horizontal_flip=True,vertical_flip=True, shear_range=0.2)    \n",
    "\n",
    "test_data_generator = ImageDataGenerator(rescale=1. / 255, rotation_range=30, horizontal_flip=True,vertical_flip=True, shear_range=0.2)    \n",
    "\n",
    "\n",
    "train_generator = train_data_generator.flow_from_directory(\n",
    "    train_dir,\n",
    "    shuffle=True,\n",
    "    target_size=(200, 200),\n",
    "    batch_size=10,\n",
    "    class_mode='binary')\n",
    "\n",
    "\n",
    "val_generator = test_data_generator.flow_from_directory(\n",
    "    val_dir,\n",
    "    shuffle=True,\n",
    "    target_size=(200, 200),\n",
    "    batch_size=10,\n",
    "    class_mode='binary')\n",
    "\n",
    "model.compile(\n",
    "    loss='sparse_categorical_crossentropy',\n",
    "    optimizer=tf.keras.optimizers.Adam(learning_rate=0.0001),\n",
    "    metrics=['accuracy'])\n",
    "\n",
    "# just added shuffle\n",
    "history = model.fit(train_generator, shuffle=True, verbose=1,epochs=30,steps_per_epoch=50, validation_data=val_generator)\n",
    "\n"
   ]
  },
  {
   "cell_type": "code",
   "execution_count": 5,
   "metadata": {},
   "outputs": [
    {
     "data": {
      "image/png": "[encoded data removed]",
      "text/plain": [
       "<Figure size 432x288 with 1 Axes>"
      ]
     },
     "metadata": {
      "needs_background": "light"
     },
     "output_type": "display_data"
    },
    {
     "data": {
      "text/plain": [
       "<Figure size 432x288 with 0 Axes>"
      ]
     },
     "execution_count": 5,
     "metadata": {},
     "output_type": "execute_result"
    },
    {
     "data": {
      "text/plain": [
       "<Figure size 432x288 with 0 Axes>"
      ]
     },
     "metadata": {},
     "output_type": "display_data"
    }
   ],
   "source": [
    "import matplotlib.pyplot as plt\n",
    "\n",
    "accuracy = history.history['accuracy']\n",
    "val_accuracy = history.history['val_accuracy']\n",
    "loss = history.history['loss']\n",
    "val_loss = history.history['val_loss']\n",
    "\n",
    "epochs = range(len(accuracy))\n",
    "\n",
    "plt.plot(epochs, accuracy, label='training')\n",
    "plt.plot(epochs, val_accuracy, label='validation')\n",
    "plt.title('Accuracy')\n",
    "plt.xlabel('Epochs')\n",
    "plt.ylabel('Accuracy')\n",
    "plt.legend()\n",
    "plt.savefig('Accuracy_graph.jpg')\n",
    "plt.show()\n",
    "plt.figure()\n"
   ]
  },
  {
   "cell_type": "code",
   "execution_count": 6,
   "metadata": {},
   "outputs": [
    {
     "data": {
      "image/png": "[encoded data removed]",
      "text/plain": [
       "<Figure size 432x288 with 1 Axes>"
      ]
     },
     "metadata": {
      "needs_background": "light"
     },
     "output_type": "display_data"
    }
   ],
   "source": [
    "plt.plot(epochs, loss, label='training')\n",
    "plt.plot(epochs, val_loss, label='validation')\n",
    "plt.title('Loss')\n",
    "plt.xlabel('Epochs')\n",
    "plt.ylabel('Loss')\n",
    "plt.legend()\n",
    "plt.savefig('Loss_graph.jpg')\n",
    "plt.show()\n"
   ]
  },
  {
   "cell_type": "code",
   "execution_count": 9,
   "metadata": {},
   "outputs": [
    {
     "name": "stdout",
     "output_type": "stream",
     "text": [
      "(2000, 200, 200, 3)\n"
     ]
    }
   ],
   "source": [
    "cat_dir='dog vs cat/dataset/test_set/cats'\n",
    "dog_dir='dog vs cat/dataset/test_set/dogs'\n",
    "test_data=[]\n",
    "\n",
    "filenames_cats=[f for f in os.listdir(cat_dir) if f.endswith('.jpg')]\n",
    "filenames_cats.sort()\n",
    "filenames_dogs=[f for f in os.listdir(dog_dir) if f.endswith('.jpg')]\n",
    "filenames_dogs.sort()\n",
    "\n",
    "for i in range(len(filenames_cats)):\n",
    "    image = Image.open(os.path.join(cat_dir, filenames_cats[i]))\n",
    "    img = image.resize((200,200))\n",
    "    test_data.append(np.array(img))\n",
    "    \n",
    "for i in range(len(filenames_dogs)):\n",
    "    image = Image.open(os.path.join(dog_dir, filenames_dogs[i]))\n",
    "    img = image.resize((200,200))\n",
    "    test_data.append(np.array(img))\n",
    "\n",
    "\n",
    "X_test=np.array(test_data)\n",
    "print(X_test.shape)\n",
    "X_test = X_test.astype('float32')/255 \n",
    "\n",
    "pred = model.predict(X_test)\n",
    "# use predict classes otherwise\n",
    "predictions=[]\n",
    "for i in range(pred.shape[0]):\n",
    "    predictions.append(np.argmax(pred[i,:]))\n",
    "\n",
    "labels_cats= [0] * len(filenames_cats)\n",
    "labels_dogs= [1] * len(filenames_dogs)\n",
    "test_labels= labels_cats + labels_dogs"
   ]
  },
  {
   "cell_type": "code",
   "execution_count": 10,
   "metadata": {},
   "outputs": [
    {
     "name": "stdout",
     "output_type": "stream",
     "text": [
      "Overall Accuracy of the model on holdout testing data is 0.973\n"
     ]
    }
   ],
   "source": [
    "print('Overall Accuracy of the model on holdout testing data is {}'.format(accuracy_score(test_labels, predictions)))"
   ]
  },
  {
   "cell_type": "code",
   "execution_count": 11,
   "metadata": {},
   "outputs": [
    {
     "name": "stdout",
     "output_type": "stream",
     "text": [
      "[[991   9]\n",
      " [ 45 955]]\n"
     ]
    }
   ],
   "source": [
    "print(confusion_matrix(test_labels,predictions))"
   ]
  },
  {
   "cell_type": "code",
   "execution_count": null,
   "metadata": {},
   "outputs": [],
   "source": []
  }
 ],
 "metadata": {
  "kernelspec": {
   "display_name": "Python 3",
   "language": "python",
   "name": "python3"
  },
  "language_info": {
   "codemirror_mode": {
    "name": "ipython",
    "version": 3
   },
   "file_extension": ".py",
   "mimetype": "text/x-python",
   "name": "python",
   "nbconvert_exporter": "python",
   "pygments_lexer": "ipython3",
   "version": "3.7.6"
  }
 },
 "nbformat": 4,
 "nbformat_minor": 4
}
